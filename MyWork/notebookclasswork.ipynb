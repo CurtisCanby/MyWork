{
 "cells": [
  {
   "cell_type": "code",
   "execution_count": 1,
   "metadata": {},
   "outputs": [
    {
     "name": "stdout",
     "output_type": "stream",
     "text": [
      "value of x1: 30.0\n",
      "value of x2: 40.0\n",
      "Optimal: 4100.0\n"
     ]
    }
   ],
   "source": [
    "from pulp import LpProblem, LpVariable, lpSum, value, LpMinimize, LpMaximize\n",
    "# Step 2\n",
    "carpentryprob = LpProblem(\"Carpentry_Time\", LpMaximize)\n",
    "# Step 3\n",
    "x1 = LpVariable(\"tables\", lowBound=0)\n",
    "x2 = LpVariable(\"chairs\", lowBound=0)\n",
    "# Step 4\n",
    "carpentryprob += 70*x1+50*x2\n",
    "# Step 5\n",
    "carpentryprob += 4*x1+3*x2<=240, \"Constraint 1\"\n",
    "carpentryprob += 2*x1+x2<=100, \"Constraint 2\"\n",
    "# Step 6\n",
    "carpentryprob.solve()\n",
    "print(\"value of x1:\",value(x1))\n",
    "print(\"value of x2:\",value(x2))\n",
    "print(\"Optimal:\",value(carpentryprob.objective))"
   ]
  }
 ],
 "metadata": {
  "kernelspec": {
   "display_name": "Python 3",
   "language": "python",
   "name": "python3"
  },
  "language_info": {
   "codemirror_mode": {
    "name": "ipython",
    "version": 3
   },
   "file_extension": ".py",
   "mimetype": "text/x-python",
   "name": "python",
   "nbconvert_exporter": "python",
   "pygments_lexer": "ipython3",
   "version": "3.11.4"
  }
 },
 "nbformat": 4,
 "nbformat_minor": 2
}
